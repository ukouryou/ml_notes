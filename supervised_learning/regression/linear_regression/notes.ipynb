{
 "cells": [
  {
   "cell_type": "markdown",
   "metadata": {},
   "source": [
    "### Defination\n",
    "\n",
    " 在target variable 与input variable之间建立形如$f(x)=kx+b$线性关系。记target variable为$y_{real}$,prediction value为$y_{pred}$,线性模型试图使$y_{pred}$逼近$y_{real}$\n",
    "\n",
    "> 更一般的线性关系$f(x) = w_1x_1 + w_2x_2 + .. ... w_dx_d + b$;<br/>\n",
    "> 向量形式$f(x)={w^\\top}x+b$    "
   ]
  },
  {
   "cell_type": "markdown",
   "metadata": {},
   "source": [
    "### 如何确定线性模型里的w和b\n",
    "均方误差／最小二乘法？\n",
    "\\begin{equation} \\label{eq1}\n",
    "\\begin{split}\n",
    "(w^*,b^*) & = argmin\\frac{\\pi r^2}{2} \\\\\n",
    " & = \\frac{1}{2} \\pi r^2\n",
    "\\end{split}\n",
    "\\end{equation}\n",
    "\n",
    "$\\max \\limits_{a<x<b}\\{f(x)\\}$"
   ]
  },
  {
   "cell_type": "code",
   "execution_count": null,
   "metadata": {
    "collapsed": true
   },
   "outputs": [],
   "source": []
  }
 ],
 "metadata": {
  "kernelspec": {
   "display_name": "Python 2",
   "language": "python",
   "name": "python2"
  },
  "language_info": {
   "codemirror_mode": {
    "name": "ipython",
    "version": 2
   },
   "file_extension": ".py",
   "mimetype": "text/x-python",
   "name": "python",
   "nbconvert_exporter": "python",
   "pygments_lexer": "ipython2",
   "version": "2.7.12"
  }
 },
 "nbformat": 4,
 "nbformat_minor": 2
}
