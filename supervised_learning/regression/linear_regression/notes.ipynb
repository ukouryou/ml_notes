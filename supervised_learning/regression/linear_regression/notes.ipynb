{
 "cells": [
  {
   "cell_type": "markdown",
   "metadata": {},
   "source": [
    "### Defination\n",
    "\n",
    " 在target variable 与input variable之间建立形如$f(x)=kx+b$线性关系。记actual value为$y_{real}$,target variable为$y_{pred}$,线性模型试图使$y_{pred}$逼近$y_{real}$\n",
    "\n",
    "> 更一般的线性关系$f(x) = w_1x_1 + w_2x_2 + .. ... w_dx_d + b$;<br/>\n",
    "> 向量形式$f(x)={w^\\top}x+b$;<br>\n",
    "> b可以吸收到向量w中"
   ]
  },
  {
   "cell_type": "markdown",
   "metadata": {},
   "source": [
    "## Question1\n",
    "概念理解是否正确？是否还需要补充？"
   ]
  },
  {
   "cell_type": "markdown",
   "metadata": {},
   "source": [
    "### 如何确定线性模型里的w和b\n",
    "我们通过minimize cost function来求得w和b,cost function可以有多种，这里我们用均方误差/最小二乘法\n",
    "\\begin{equation} \\label{1}\n",
    "(w^*,b^*) = \\frac{1}{2m}\\sum_{i=1}^{m}(f(x_{i})-y_i)^2\n",
    "\\end{equation}\n",
    "我们把求解w和b的问题转化为minimize cost function的问题"
   ]
  },
  {
   "cell_type": "markdown",
   "metadata": {},
   "source": [
    "## Question2\n",
    "最小均方误差／最小二乘法 ---这两个概念是否等价？ <br>\n",
    "  --uncle ren 观点是等价的　<br>\n",
    "cost function/loss function ---这两个概念是否等价？<br>\n",
    "为什么用均方误差/最小二乘法？它有什么特点？\n"
   ]
  },
  {
   "cell_type": "markdown",
   "metadata": {
    "collapsed": true
   },
   "source": [
    "### 如何求解cost function\n",
    "\n",
    "- Gradient descent\n",
    "- Normal equation\n",
    "\n",
    "#### 梯度下降\n",
    "导数微分图解\n",
    "<img src=\"./derivative.jpg\" />\n",
    "gradient intuition<br>\n",
    "https://www.youtube.com/watch?v=GkB4vW16QHI\n",
    "\n",
    "在函数的的某一点处，函数沿梯度方向具有最大的变化率，那么在优化目标函数时，沿着负梯度方向去减小函数值，以此达到我们的优化目标。\n",
    "\n",
    "\\begin{equation} \\label{2}\n",
    "gradf(x_0,...,x_j,...,x_n) = (\\frac{\\partial f}{\\partial x_0},...,\\frac{\\partial f}{\\partial x_j},...,\\frac{\\partial f}{\\partial x_n})\n",
    "\\end{equation}\n",
    "\n",
    "update each value until convergence\n",
    "\n",
    "\\begin{equation} \\label{3}\n",
    "x_j = x_j - \\alpha \\frac{\\partial f}{\\partial x_j}\n",
    "\\end{equation}\n",
    "\n",
    "How to choose $\\alpha$ <br>\n",
    "too small convergence slow <br>\n",
    "too big may not convergence \n",
    "\n",
    "feature normalization,scaling \n",
    "#### Normal equation\n",
    "\\begin{equation} \\label{4}\n",
    "w^* = ({X^\\top}X)^{-1}X^{\\top}y\n",
    "\\end{equation}\n"
   ]
  },
  {
   "cell_type": "markdown",
   "metadata": {},
   "source": [
    "### Question3 \n",
    "<<机器学习>>里关于normal equation的推导没懂？？？"
   ]
  },
  {
   "cell_type": "markdown",
   "metadata": {},
   "source": [
    "### Question4\n",
    "还有哪些非常常用的回归模型？\n",
    "多项式回归，岭回归，等等需要掌握吗？"
   ]
  }
 ],
 "metadata": {
  "kernelspec": {
   "display_name": "Python 2",
   "language": "python",
   "name": "python2"
  },
  "language_info": {
   "codemirror_mode": {
    "name": "ipython",
    "version": 2
   },
   "file_extension": ".py",
   "mimetype": "text/x-python",
   "name": "python",
   "nbconvert_exporter": "python",
   "pygments_lexer": "ipython2",
   "version": "2.7.12"
  }
 },
 "nbformat": 4,
 "nbformat_minor": 2
}
