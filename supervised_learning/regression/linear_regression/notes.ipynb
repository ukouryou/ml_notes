{
 "cells": [
  {
   "cell_type": "markdown",
   "metadata": {},
   "source": [
    "### Defination\n",
    "\n",
    " 在target variable 与input variable之间建立形如$f(x)=kx+b$线性关系。记target variable为$y_{real}$,prediction value为$y_{pred}$,线性模型试图使$y_{pred}$逼近$y_{real}$\n",
    "\n",
    "> 更一般的线性关系$f(x) = w_1x_1 + w_2x_2 + .. ... w_dx_d + b$;<br/>\n",
    "> 向量形式$f(x)={w^\\top}x+b$;<br>\n",
    "> b可以吸收到向量w中"
   ]
  },
  {
   "cell_type": "markdown",
   "metadata": {},
   "source": [
    "## Question1\n",
    "概念理解是否正确？是否还需要补充？"
   ]
  },
  {
   "cell_type": "markdown",
   "metadata": {},
   "source": [
    "### 如何确定线性模型里的w和b\n",
    "我们通过minimize cost function来求得w和b,cost function可以有多种，这里我们用均方误差/最小二乘法\n",
    "\\begin{equation} \\label{1}\n",
    "(w^*,b^*) = \\frac{1}{2m}\\sum_{i=1}^{m}(f(x_{i})-y_i)^2\n",
    "\\end{equation}\n",
    "我们把求解w和b的问题转化为minimize cost function的问题"
   ]
  },
  {
   "cell_type": "markdown",
   "metadata": {},
   "source": [
    "## Question2\n",
    "均方误差／最小二乘法 ---这两个概念是否等价？ <br>\n",
    "cost function/loss function ---这两个概念是否等价？<br>\n",
    "为什么用均方误差/最小二乘法？它有什么特点？"
   ]
  },
  {
   "cell_type": "markdown",
   "metadata": {
    "collapsed": true
   },
   "source": [
    "### 如何求解cost function\n",
    "\n",
    "- 梯度下降\n",
    "- 矩阵方式"
   ]
  }
 ],
 "metadata": {
  "kernelspec": {
   "display_name": "Python 2",
   "language": "python",
   "name": "python2"
  },
  "language_info": {
   "codemirror_mode": {
    "name": "ipython",
    "version": 2
   },
   "file_extension": ".py",
   "mimetype": "text/x-python",
   "name": "python",
   "nbconvert_exporter": "python",
   "pygments_lexer": "ipython2",
   "version": "2.7.12"
  }
 },
 "nbformat": 4,
 "nbformat_minor": 2
}
