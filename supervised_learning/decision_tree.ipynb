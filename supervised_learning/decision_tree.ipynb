{
 "cells": [
  {
   "cell_type": "markdown",
   "metadata": {},
   "source": [
    "# Decision tree"
   ]
  },
  {
   "cell_type": "markdown",
   "metadata": {},
   "source": [
    "### Defination\n",
    "决策树通过一系列属性测试对数据分类。非叶子节点(node)表示属性(attributes),分支表示这个属性值下的输出,叶子节点(leaf)表示最终类别.我们希望对现有数据学习来构建一个这样的决策树来处理未见过的数据。"
   ]
  },
  {
   "cell_type": "markdown",
   "metadata": {},
   "source": [
    "### 决策树学习过程"
   ]
  },
  {
   "cell_type": "markdown",
   "metadata": {},
   "source": [
    "*** 决策树生成 *** : 运用决策树算法，从上至下递归地生成子节点，直到数据集不可分则停止决策树生长。 树结构来说，递归结构是最容易理解的方式。\n",
    "\n",
    "***特征选择***：从训练数据的特征中选择一个特征作为当前节点的分裂标准（测试属性），如何选择特征有着很多不同量化评估标准标准，从而衍生出不同的决策树算法。\n",
    "\n",
    "***剪枝***：决策树容易过拟合，一般来需要剪枝，缩小树结构规模、缓解过拟合。剪枝技术有预剪枝和后剪枝两种。"
   ]
  },
  {
   "cell_type": "markdown",
   "metadata": {},
   "source": [
    "### 决策树生成算法"
   ]
  },
  {
   "cell_type": "markdown",
   "metadata": {},
   "source": [
    "***Algorithm*** :Generate_decision_tree ,generate decision tree from the training data D\n",
    "\n",
    "***Input***: \n",
    "* training data D\n",
    "* attribute_list\n",
    "* attribute_selection_method\n",
    "\n",
    "***Output***:A decision tree\n",
    "\n",
    "***Method***:\n",
    "````\n",
    "(1)create a node N;\n",
    "(2)if tuples in D are all of the same class C then\n",
    "(3)  return N as the leaf node labeled with the class C;\n",
    "(4)if attribute_list is empty then\n",
    "(5)  return N as a leaf node labeled with the majority class in D;//majority voting\n",
    "(6)apply attribute_selection_method(D,attribute_list) to find the \"best\" splitting_criterion;\n",
    "(7)label node N with splitting_criterion;\n",
    "(8)if splitting_attribute is discrete_valued and multiway splits allowed then// not restricted binary trees\n",
    "(9)  attribute_list = attribute_list - splitting_attribute;// remove splitting attribute\n",
    "(10)for each outcome j of splitting_criterion //partition the tuples and grow subtrees for each partition\n",
    "(11)  let Dj be the set of data tuples in D safisfying the outcome j; //a partition\n",
    "(12)  if Dj is empty then\n",
    "(13)    attach a leaf labeled with the majority class in D to node N;\n",
    "(14)  else attach a node returned by Generate_decision_tree(Dj,attribute_list) to node N;\n",
    "    end for\n",
    "(15)return N;\n",
    "```` \n",
    "[reference csun]http://www.csun.edu/~twang/595DM/Slides/Week4.pdf"
   ]
  },
  {
   "cell_type": "code",
   "execution_count": null,
   "metadata": {
    "collapsed": true
   },
   "outputs": [],
   "source": []
  },
  {
   "cell_type": "markdown",
   "metadata": {},
   "source": [
    "### ID3算法"
   ]
  }
 ],
 "metadata": {
  "kernelspec": {
   "display_name": "Python 2",
   "language": "python",
   "name": "python2"
  },
  "language_info": {
   "codemirror_mode": {
    "name": "ipython",
    "version": 2
   },
   "file_extension": ".py",
   "mimetype": "text/x-python",
   "name": "python",
   "nbconvert_exporter": "python",
   "pygments_lexer": "ipython2",
   "version": "2.7.12"
  }
 },
 "nbformat": 4,
 "nbformat_minor": 2
}
